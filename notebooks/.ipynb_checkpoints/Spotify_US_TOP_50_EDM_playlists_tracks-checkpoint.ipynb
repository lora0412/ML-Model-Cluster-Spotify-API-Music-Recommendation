{
 "cells": [
  {
   "cell_type": "markdown",
   "id": "4a3cba4c-a9bb-4093-8001-2dc7f5f83fcd",
   "metadata": {},
   "source": [
    "# 1. Libraries"
   ]
  },
  {
   "cell_type": "code",
   "execution_count": 38,
   "id": "2fa41d32-7fbd-41f0-a8e1-482f74b7cb45",
   "metadata": {},
   "outputs": [],
   "source": [
    "# 1. Python \n",
    "import pandas as pd\n",
    "import numpy as np\n",
    "\n",
    "# 2. Spotify API\n",
    "import requests\n",
    "import base64\n",
    "import time\n",
    "import logging\n",
    "\n",
    "#logging.basicConfig(level=logging.INFO)\n",
    "\n",
    "# 3. Spotify OAuth 2.0\n",
    "import spotipy\n",
    "from spotipy.oauth2 import SpotifyClientCredentials"
   ]
  },
  {
   "cell_type": "markdown",
   "id": "80d93a37-61ad-40d8-91b8-00bce1c57913",
   "metadata": {},
   "source": [
    "# 2. Access to API "
   ]
  },
  {
   "cell_type": "code",
   "execution_count": null,
   "id": "1544c955-879e-4fe1-92a7-a46af2605eb2",
   "metadata": {},
   "outputs": [],
   "source": [
    "# 2.1 Get access to API Key&Secret\n",
    "import os\n",
    "from dotenv import load_dotenv\n",
    "\n",
    "# Load .env\n",
    "load_dotenv()\n",
    "\n",
    "# Get access to SPI key&Secret\n",
    "client_id = os.getenv('client_id')\n",
    "client_secret = os.getenv('client_secret')\n",
    "\n",
    "# DELETE IT WHEN COMMIT!!!!!!!!!!!!! \n",
    "print(f\"Spotify Client ID: {client_id}\")\n",
    "print(f\"Spotify Client ID: {client_secret}\")"
   ]
  },
  {
   "cell_type": "code",
   "execution_count": null,
   "id": "18ea5edd-c0df-469b-abd0-a89622061368",
   "metadata": {},
   "outputs": [],
   "source": [
    "# 2.2 create client credentials\n",
    "client_credentials_manager = SpotifyClientCredentials(client_id=client_id, client_secret=client_secret)\n",
    "sp = spotipy.Spotify(client_credentials_manager=client_credentials_manager)"
   ]
  },
  {
   "cell_type": "markdown",
   "id": "395116ea-193b-4a09-ad57-301697b8ea16",
   "metadata": {},
   "source": [
    "# 3. Search and access to Country public playlist"
   ]
  },
  {
   "cell_type": "code",
   "execution_count": null,
   "id": "2b13b972-408b-4c30-b45a-99d3f3a0ef94",
   "metadata": {},
   "outputs": [],
   "source": [
    "# 3.1 functions search playlist\n",
    "def search_public_playlists(query, country='US', limit=50):\n",
    "    search_results = sp.search(q=query, type='playlist', limit=limit, market=country)\n",
    "    playlists = search_results['playlists']['items']\n",
    "    return playlists"
   ]
  },
  {
   "cell_type": "code",
   "execution_count": null,
   "id": "088760ca-6165-4b7b-a533-19b3302325d5",
   "metadata": {},
   "outputs": [],
   "source": [
    "# 3.2 Example: Key words\n",
    "query = 'EDM'\n",
    "playlists = search_public_playlists(query, country='US')"
   ]
  },
  {
   "cell_type": "code",
   "execution_count": null,
   "id": "6d3d21e7-2153-4e3e-829a-a547cfb90735",
   "metadata": {},
   "outputs": [],
   "source": [
    "# 3.3 Playlist information\n",
    "data = []\n",
    "for playlist in playlists:\n",
    "    data.append([playlist['name'], playlist['id'], playlist['owner']['display_name'], playlist['tracks']['total']])"
   ]
  },
  {
   "cell_type": "code",
   "execution_count": null,
   "id": "a05c8c75-f888-45c6-9b5c-b2befe24f82f",
   "metadata": {},
   "outputs": [],
   "source": [
    "# 3.4 DataFrame\n",
    "df = pd.DataFrame(data, columns=['Name', 'ID', 'Owner', 'Total Tracks'])\n",
    "\n",
    "df.head()"
   ]
  },
  {
   "cell_type": "markdown",
   "id": "e2aefbf9-be00-40d2-9558-99e74c53ea32",
   "metadata": {},
   "source": [
    "# 4. Search Tracks in playlists"
   ]
  },
  {
   "cell_type": "code",
   "execution_count": null,
   "id": "01c276af-0b9b-429d-8c34-ac70a495e5e8",
   "metadata": {},
   "outputs": [],
   "source": [
    "# 4.1 Get access to all playlist_tracks\n",
    "\n",
    "def get_playlist_tracks(playlist_id):\n",
    "    tracks = []\n",
    "    try:\n",
    "        results = sp.playlist_tracks(playlist_id)\n",
    "        tracks.extend(results['items'])\n",
    "        \n",
    "        while results['next']:\n",
    "            time.sleep(1)  # rate limit \n",
    "            results = sp.next(results)\n",
    "            tracks.extend(results['items'])\n",
    "    except spotipy.exceptions.SpotifyException as e:\n",
    "        logging.error(f\"Error fetching tracks for playlist {playlist_id}: {e}\")\n",
    "    \n",
    "    return tracks"
   ]
  },
  {
   "cell_type": "code",
   "execution_count": 9,
   "id": "97d4a329-bdad-48a0-ab9c-ca478e914954",
   "metadata": {},
   "outputs": [],
   "source": [
    "# 4.2 Get track features \n",
    "\n",
    "def get_audio_features_with_info(track_ids):\n",
    "    features = []\n",
    "    track_infos = []\n",
    "    try:\n",
    "        for i in range(0, len(track_ids), 100):  # Max 100 everytime \n",
    "            time.sleep(1)  \n",
    "            features.extend(sp.audio_features(track_ids[i:i+100]))\n",
    "        \n",
    "        for i in range(0, len(track_ids), 50):  # Max 50 everytime \n",
    "            time.sleep(1)  \n",
    "            track_infos.extend(sp.tracks(track_ids[i:i+50])['tracks'])\n",
    "    except spotipy.exceptions.SpotifyException as e:\n",
    "        logging.error(f\"Error fetching audio features or track info: {e}\")\n",
    "    \n",
    "    combined_info = []\n",
    "    for feature, track in zip(features, track_infos):\n",
    "        if feature and track:  \n",
    "            combined_info.append({\n",
    "                'track_id': track['id'],\n",
    "                'track_name': track['name'],\n",
    "                'artist_name': ', '.join([artist['name'] for artist in track['artists']]),\n",
    "                'album_name': track['album']['name'],\n",
    "                'release_date': track['album']['release_date'],\n",
    "                'duration_ms': track['duration_ms'],\n",
    "                'popularity': track['popularity'],\n",
    "                'danceability': feature['danceability'],\n",
    "                'energy': feature['energy'],\n",
    "                'key': feature['key'],\n",
    "                'loudness': feature['loudness'],\n",
    "                'mode': feature['mode'],\n",
    "                'speechiness': feature['speechiness'],\n",
    "                'acousticness': feature['acousticness'],\n",
    "                'instrumentalness': feature['instrumentalness'],\n",
    "                'liveness': feature['liveness'],\n",
    "                'valence': feature['valence'],\n",
    "                'tempo': feature['tempo']\n",
    "            })\n",
    "    return combined_info"
   ]
  },
  {
   "cell_type": "code",
   "execution_count": 10,
   "id": "4e4f6300-8044-4a1e-9413-0b4ca09a1108",
   "metadata": {},
   "outputs": [],
   "source": [
    "# 4.3 Get all features in playlists \n",
    "\n",
    "def get_playlist_audio_features(playlist_id):\n",
    "    tracks = get_playlist_tracks(playlist_id)\n",
    "    track_ids = [track['track']['id'] for track in tracks if track['track']['id'] is not None]\n",
    "    audio_features_with_info = get_audio_features_with_info(track_ids)\n",
    "    return audio_features_with_info"
   ]
  },
  {
   "cell_type": "code",
   "execution_count": 11,
   "id": "c89164bd-1038-4465-9a8a-423f3b8c9ae7",
   "metadata": {},
   "outputs": [
    {
     "name": "stdout",
     "output_type": "stream",
     "text": [
      "Getting audio features for playlist: EDM Music 2024 (Top 100)\n",
      "Getting audio features for playlist: mint\n",
      "Getting audio features for playlist: EDM House Mix\n",
      "Getting audio features for playlist: EDM BANGERS ❤️‍🔥🤯🌎\n",
      "Getting audio features for playlist: Chill Tracks\n",
      "Getting audio features for playlist: EDM Hard Bass Mix\n",
      "Getting audio features for playlist: EDM Classics (Top 100)\n",
      "Getting audio features for playlist: Workout EDM Mix\n",
      "Getting audio features for playlist: Summer EDM Mix\n",
      "Getting audio features for playlist: Happy Beats\n",
      "Getting audio features for playlist: hot girl EDM workout mix 🎧\n",
      "Getting audio features for playlist: Pop Hits 2000s – 2024\n",
      "Getting audio features for playlist: Club EDM Mix\n",
      "Getting audio features for playlist: EDM BANGERS 🔥🎧\n",
      "Getting audio features for playlist: EDM 2024\n",
      "Getting audio features for playlist: EDM MIX 2024 🔥 EDM HITS 🔥TOMORROWLAND 2024\n",
      "Getting audio features for playlist: Ultra Gaming\n",
      "Getting audio features for playlist: Best EDM Songs of All Time - Most Popular EDM Music Playlist\n",
      "Getting audio features for playlist: BRAZILIAN PHONK 🇧🇷\n",
      "Getting audio features for playlist: Best EDM Playlist 2024\n",
      "Getting audio features for playlist: Deep House Relax\n",
      "Getting audio features for playlist: 2013-2015 EDM Hits\n",
      "Getting audio features for playlist: Dance Hits\n",
      "Getting audio features for playlist: Dance Party\n",
      "Getting audio features for playlist: Hype EDM Mix\n",
      "Getting audio features for playlist: EDM Remixes of Popular Songs\n",
      "Getting audio features for playlist: Running EDM Mix\n",
      "Getting audio features for playlist: EDM Workout 2024 | Training Hits\n",
      "Getting audio features for playlist: frat songs that could resurrect me\n",
      "Getting audio features for playlist: EDM Hits\n",
      "Getting audio features for playlist: Hype\n",
      "Getting audio features for playlist: EDM Pop Mix\n",
      "Getting audio features for playlist: Car Music\n",
      "Getting audio features for playlist: as i run (to EDM hits)\n",
      "Getting audio features for playlist: All New Dance\n",
      "Getting audio features for playlist: Top EDM Hits of All Time\n",
      "Getting audio features for playlist: Pop Remix\n",
      "Getting audio features for playlist: Party EDM Pop 2010-2024\n",
      "Getting audio features for playlist: Gym Hits\n",
      "Getting audio features for playlist: EDM beat drops😱\n",
      "Getting audio features for playlist: Power Hour\n",
      "Getting audio features for playlist: Best EDM of All Time\n",
      "Getting audio features for playlist: Night Rider\n",
      "Getting audio features for playlist: Dance EDM Mix\n",
      "Getting audio features for playlist: EDM Island\n",
      "Getting audio features for playlist: Dance Rising\n",
      "Getting audio features for playlist: Trap/Rap EDM Remix\n",
      "Getting audio features for playlist: EDM Electronica 2024\n",
      "Getting audio features for playlist: EDM GYM PLAYLIST PR TIME LETS GOO\n",
      "Getting audio features for playlist: Edm Mode\n"
     ]
    }
   ],
   "source": [
    "# 4.5 EDM in US \n",
    "\n",
    "query = 'EDM'\n",
    "playlists = search_public_playlists(query, country='US')\n",
    "\n",
    "all_audio_features = []\n",
    "unique_track_ids = set()\n",
    "\n",
    "for playlist in playlists:\n",
    "    playlist_id = playlist['id']\n",
    "    print(f\"Getting audio features for playlist: {playlist['name']}\")\n",
    "    audio_features = get_playlist_audio_features(playlist_id)\n",
    "    \n",
    "    for feature in audio_features: #drop duplicated track_id \n",
    "        if feature['track_id'] not in unique_track_ids:\n",
    "            unique_track_ids.add(feature['track_id'])\n",
    "            all_audio_features.append(feature)"
   ]
  },
  {
   "cell_type": "code",
   "execution_count": 63,
   "id": "80e620df-0143-4291-8542-f0f5edaa5c56",
   "metadata": {},
   "outputs": [
    {
     "name": "stdout",
     "output_type": "stream",
     "text": [
      "CSV file saved: ../data/raw//US_TOP_50_EDM_playlists_tracks.csv\n"
     ]
    }
   ],
   "source": [
    "# Create DataFrame and Save \n",
    "df = pd.DataFrame(all_audio_features)\n",
    "csv_filename = '../data/raw//US_TOP_50_EDM_playlists_tracks.csv'\n",
    "df.to_csv(csv_filename, index=False)\n",
    "print(f\"CSV file saved: {csv_filename}\")\n",
    "\n",
    "#display(df.head())"
   ]
  },
  {
   "cell_type": "code",
   "execution_count": null,
   "id": "e6bf6fd4-72d8-4cd3-9d71-773e7de55fe8",
   "metadata": {},
   "outputs": [],
   "source": [
    "# 4.7 EDM in UK\n",
    "query = 'EDM'\n",
    "playlists = search_public_playlists(query, country='DE')\n",
    "\n",
    "all_audio_features = []\n",
    "unique_track_ids = set()\n",
    "\n",
    "for playlist in playlists:\n",
    "    playlist_id = playlist['id']\n",
    "    print(f\"Getting audio features for playlist: {playlist['name']}\")\n",
    "    audio_features = get_playlist_audio_features(playlist_id)\n",
    "    \n",
    "    for feature in audio_features: #drop duplicated track_id \n",
    "        if feature['track_id'] not in unique_track_ids:\n",
    "            unique_track_ids.add(feature['track_id'])\n",
    "            all_audio_features.append(feature)\n"
   ]
  },
  {
   "cell_type": "code",
   "execution_count": null,
   "id": "99e40230-6e2a-4066-8ae8-a35968d09fbc",
   "metadata": {},
   "outputs": [],
   "source": [
    "# EDM in NL\n",
    "# EDM in ES\n",
    "# EDM in PT\n"
   ]
  }
 ],
 "metadata": {
  "kernelspec": {
   "display_name": "Python (m3_venv)",
   "language": "python",
   "name": "myenv"
  },
  "language_info": {
   "codemirror_mode": {
    "name": "ipython",
    "version": 3
   },
   "file_extension": ".py",
   "mimetype": "text/x-python",
   "name": "python",
   "nbconvert_exporter": "python",
   "pygments_lexer": "ipython3",
   "version": "3.11.7"
  }
 },
 "nbformat": 4,
 "nbformat_minor": 5
}
