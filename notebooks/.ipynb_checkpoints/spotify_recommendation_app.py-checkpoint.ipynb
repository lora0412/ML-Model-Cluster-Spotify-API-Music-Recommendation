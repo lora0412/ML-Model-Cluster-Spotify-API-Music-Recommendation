{
 "cells": [
  {
   "cell_type": "code",
   "execution_count": 1,
   "id": "9e96de5a-d16b-4d05-b1c9-46e7ff5bb5e7",
   "metadata": {},
   "outputs": [],
   "source": [
    "import streamlit as st\n",
    "import spotipy\n",
    "from spotipy.oauth2 import SpotifyClientCredentials\n",
    "import pandas as pd"
   ]
  },
  {
   "cell_type": "code",
   "execution_count": 2,
   "id": "b63e643f-b873-4306-8194-4d3a97b84c89",
   "metadata": {},
   "outputs": [],
   "source": [
    "# 2.1 Get access to API Key&Secret\n",
    "import os\n",
    "from dotenv import load_dotenv\n",
    "\n",
    "# Load .env\n",
    "load_dotenv()\n",
    "\n",
    "# Get access to SPI key&Secret\n",
    "client_id = os.getenv('client_id')\n",
    "client_secret = os.getenv('client_secret')"
   ]
  },
  {
   "cell_type": "code",
   "execution_count": 3,
   "id": "3d4e12ae-3825-4017-97ad-4a78e58cb812",
   "metadata": {},
   "outputs": [],
   "source": [
    "# 2.2 create client credentials\n",
    "client_credentials_manager = SpotifyClientCredentials(client_id=client_id, client_secret=client_secret)\n",
    "sp = spotipy.Spotify(client_credentials_manager=client_credentials_manager)"
   ]
  },
  {
   "cell_type": "code",
   "execution_count": 4,
   "id": "a53615b2-7f08-4f5e-827b-99039cf7841d",
   "metadata": {},
   "outputs": [
    {
     "name": "stderr",
     "output_type": "stream",
     "text": [
      "2024-07-04 16:40:44.005 \n",
      "  \u001b[33m\u001b[1mWarning:\u001b[0m to view this Streamlit app on a browser, run it with the following\n",
      "  command:\n",
      "\n",
      "    streamlit run C:\\Users\\chuan\\Desktop\\Ironhack\\Week 9 Final Project\\m3_venv\\Lib\\site-packages\\ipykernel_launcher.py [ARGUMENTS]\n",
      "2024-07-04 16:40:44.005 Session state does not function when running a script without `streamlit run`\n"
     ]
    }
   ],
   "source": [
    "# Title \n",
    "st.title('Create your own playlist!')\n",
    "\n",
    "# 输入框：用户输入歌曲名称\n",
    "song_name = st.text_input('Wake me up')\n",
    "\n",
    "# 如果用户输入了歌曲名称\n",
    "if song_name:\n",
    "    # 搜索歌曲\n",
    "    results = sp.search(q=song_name, limit=1)\n",
    "    if results['tracks']['items']:\n",
    "        track = results['tracks']['items'][0]\n",
    "        track_id = track['id']\n",
    "        track_name = track['name']\n",
    "        artist_name = track['artists'][0]['name']\n",
    "\n",
    "        st.write(f'你选择的歌曲是: {track_name} by {artist_name}')\n",
    "\n",
    "        # 获取推荐\n",
    "        recommendations = sp.recommendations(seed_tracks=[track_id], limit=5)\n",
    "        st.write('推荐的歌曲:')\n",
    "        for i, rec in enumerate(recommendations['tracks']):\n",
    "            st.write(f\"{i + 1}. {rec['name']} by {rec['artists'][0]['name']}\")\n",
    "\n",
    "        # 显示推荐歌曲的封面\n",
    "        for rec in recommendations['tracks']:\n",
    "            st.image(rec['album']['images'][0]['url'], width=100, caption=f\"{rec['name']} by {rec['artists'][0]['name']}\")\n",
    "    else:\n",
    "        st.write('未找到相关歌曲，请尝试其他名称。')\n",
    "else:\n",
    "    st.write('请输入歌曲名称以获得推荐。')\n"
   ]
  }
 ],
 "metadata": {
  "kernelspec": {
   "display_name": "Python (m3_venv)",
   "language": "python",
   "name": "myenv"
  },
  "language_info": {
   "codemirror_mode": {
    "name": "ipython",
    "version": 3
   },
   "file_extension": ".py",
   "mimetype": "text/x-python",
   "name": "python",
   "nbconvert_exporter": "python",
   "pygments_lexer": "ipython3",
   "version": "3.11.7"
  }
 },
 "nbformat": 4,
 "nbformat_minor": 5
}
